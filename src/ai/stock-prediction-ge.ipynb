{
 "cells": [
  {
   "cell_type": "markdown",
   "metadata": {},
   "source": [
    "# 股票趋势预测-基于LSTM\n",
    "https://towardsdatascience.com/predicting-stock-price-with-lstm-13af86a74944\n",
    "\n",
    "几个需要改进的地方：\n",
    "* 网络层次的调整，比如增加一个Dropout层？ \n",
    "* 参数的优化，包括learning_rate，优化器、损失函数的选择\n",
    "* time_steps的调整？\n",
    "* 目标长度的调整？比如将目标长度调整为5，即尝试预测未来5天的收盘趋势？\n",
    "* 能够同时预测收盘和开盘？\n"
   ]
  },
  {
   "cell_type": "code",
   "execution_count": 1,
   "metadata": {},
   "outputs": [],
   "source": [
    "import tensorflow as tf\n",
    "tf.enable_eager_execution()\n",
    "    \n",
    "import numpy as np\n",
    "import matplotlib.pyplot as plt\n",
    "from sklearn.metrics import mean_squared_error"
   ]
  },
  {
   "cell_type": "code",
   "execution_count": 2,
   "metadata": {},
   "outputs": [],
   "source": [
    "import pandas as pd"
   ]
  },
  {
   "cell_type": "code",
   "execution_count": 3,
   "metadata": {
    "scrolled": true
   },
   "outputs": [
    {
     "data": {
      "text/html": [
       "<div>\n",
       "<style scoped>\n",
       "    .dataframe tbody tr th:only-of-type {\n",
       "        vertical-align: middle;\n",
       "    }\n",
       "\n",
       "    .dataframe tbody tr th {\n",
       "        vertical-align: top;\n",
       "    }\n",
       "\n",
       "    .dataframe thead th {\n",
       "        text-align: right;\n",
       "    }\n",
       "</style>\n",
       "<table border=\"1\" class=\"dataframe\">\n",
       "  <thead>\n",
       "    <tr style=\"text-align: right;\">\n",
       "      <th></th>\n",
       "      <th>Date</th>\n",
       "      <th>Open</th>\n",
       "      <th>High</th>\n",
       "      <th>Low</th>\n",
       "      <th>Close</th>\n",
       "      <th>Volume</th>\n",
       "      <th>OpenInt</th>\n",
       "    </tr>\n",
       "  </thead>\n",
       "  <tbody>\n",
       "    <tr>\n",
       "      <th>14053</th>\n",
       "      <td>2017-11-06</td>\n",
       "      <td>20.52</td>\n",
       "      <td>20.530</td>\n",
       "      <td>20.08</td>\n",
       "      <td>20.13</td>\n",
       "      <td>60641787</td>\n",
       "      <td>0</td>\n",
       "    </tr>\n",
       "    <tr>\n",
       "      <th>14054</th>\n",
       "      <td>2017-11-07</td>\n",
       "      <td>20.17</td>\n",
       "      <td>20.250</td>\n",
       "      <td>20.12</td>\n",
       "      <td>20.21</td>\n",
       "      <td>41622851</td>\n",
       "      <td>0</td>\n",
       "    </tr>\n",
       "    <tr>\n",
       "      <th>14055</th>\n",
       "      <td>2017-11-08</td>\n",
       "      <td>20.21</td>\n",
       "      <td>20.320</td>\n",
       "      <td>20.07</td>\n",
       "      <td>20.12</td>\n",
       "      <td>39672190</td>\n",
       "      <td>0</td>\n",
       "    </tr>\n",
       "    <tr>\n",
       "      <th>14056</th>\n",
       "      <td>2017-11-09</td>\n",
       "      <td>20.04</td>\n",
       "      <td>20.071</td>\n",
       "      <td>19.85</td>\n",
       "      <td>19.99</td>\n",
       "      <td>50831779</td>\n",
       "      <td>0</td>\n",
       "    </tr>\n",
       "    <tr>\n",
       "      <th>14057</th>\n",
       "      <td>2017-11-10</td>\n",
       "      <td>19.98</td>\n",
       "      <td>20.680</td>\n",
       "      <td>19.90</td>\n",
       "      <td>20.49</td>\n",
       "      <td>100698474</td>\n",
       "      <td>0</td>\n",
       "    </tr>\n",
       "  </tbody>\n",
       "</table>\n",
       "</div>"
      ],
      "text/plain": [
       "             Date   Open    High    Low  Close     Volume  OpenInt\n",
       "14053  2017-11-06  20.52  20.530  20.08  20.13   60641787        0\n",
       "14054  2017-11-07  20.17  20.250  20.12  20.21   41622851        0\n",
       "14055  2017-11-08  20.21  20.320  20.07  20.12   39672190        0\n",
       "14056  2017-11-09  20.04  20.071  19.85  19.99   50831779        0\n",
       "14057  2017-11-10  19.98  20.680  19.90  20.49  100698474        0"
      ]
     },
     "execution_count": 3,
     "metadata": {},
     "output_type": "execute_result"
    }
   ],
   "source": [
    "df_ge = pd.read_csv(\"us.ge.txt\")\n",
    "df_ge.tail()"
   ]
  },
  {
   "cell_type": "code",
   "execution_count": 4,
   "metadata": {},
   "outputs": [],
   "source": [
    "def plot_stock(df):\n",
    "    plt.figure()\n",
    "    plt.plot(df[\"Open\"])\n",
    "    plt.plot(df[\"High\"])\n",
    "    plt.plot(df[\"Low\"])\n",
    "    plt.plot(df[\"Close\"])\n",
    "    plt.title('GE stock price history')\n",
    "    plt.ylabel('Price (USD)')\n",
    "    plt.xlabel('Days')\n",
    "    plt.legend(['Open','High','Low','Close'])\n",
    "    plt.show()"
   ]
  },
  {
   "cell_type": "code",
   "execution_count": 5,
   "metadata": {},
   "outputs": [
    {
     "data": {
      "image/png": "[encoded data removed]",
      "text/plain": [
       "<Figure size 432x288 with 1 Axes>"
      ]
     },
     "metadata": {
      "needs_background": "light"
     },
     "output_type": "display_data"
    }
   ],
   "source": [
    "plot_stock(df_ge)"
   ]
  },
  {
   "cell_type": "markdown",
   "metadata": {},
   "source": [
    "看看最近100天的情况"
   ]
  },
  {
   "cell_type": "code",
   "execution_count": 6,
   "metadata": {
    "scrolled": true
   },
   "outputs": [
    {
     "data": {
      "image/png": "[encoded data removed]",
      "text/plain": [
       "<Figure size 432x288 with 1 Axes>"
      ]
     },
     "metadata": {
      "needs_background": "light"
     },
     "output_type": "display_data"
    }
   ],
   "source": [
    "df_ge_latest_100 = df_ge[-100:-1]\n",
    "plot_stock(df_ge_latest_100)"
   ]
  },
  {
   "cell_type": "code",
   "execution_count": 7,
   "metadata": {
    "scrolled": true
   },
   "outputs": [
    {
     "name": "stdout",
     "output_type": "stream",
     "text": [
      "checking if any null values are present\n",
      " Date       0\n",
      "Open       0\n",
      "High       0\n",
      "Low        0\n",
      "Close      0\n",
      "Volume     0\n",
      "OpenInt    0\n",
      "dtype: int64\n"
     ]
    }
   ],
   "source": [
    "print(\"checking if any null values are present\\n\", df_ge.isna().sum())"
   ]
  },
  {
   "cell_type": "markdown",
   "metadata": {},
   "source": [
    "数据预处理"
   ]
  },
  {
   "cell_type": "code",
   "execution_count": 8,
   "metadata": {},
   "outputs": [
    {
     "name": "stdout",
     "output_type": "stream",
     "text": [
      "Train and Test size 11246 2812\n"
     ]
    }
   ],
   "source": [
    "from sklearn.preprocessing import MinMaxScaler\n",
    "from sklearn.model_selection import train_test_split\n",
    "\n",
    "# 只选取了5个列，去掉了日期列\n",
    "train_cols = [\"Open\",\"High\",\"Low\",\"Close\",\"Volume\"]\n",
    "df_train, df_test = train_test_split(df_ge, train_size=0.8, test_size=0.2, shuffle=False)\n",
    "print(\"Train and Test size\", len(df_train), len(df_test))\n",
    "\n",
    "# scale the feature MinMax, build array\n",
    "x = df_train.loc[:,train_cols].values\n",
    "min_max_scaler = MinMaxScaler()\n",
    "x_train = min_max_scaler.fit_transform(x)\n",
    "x_test = min_max_scaler.transform(df_test.loc[:,train_cols])"
   ]
  },
  {
   "cell_type": "markdown",
   "metadata": {},
   "source": [
    "## 格式化数据给LSTM\n",
    "LSTM要求的输入数据的形状为`[batch_size, time_steps, features]`，是三维数组，即每次喂入的数据包含batch_size个样本，每个样本包括time_steps行，每行有features个数据（特性）：\n",
    "* batch_size：批次大小，决定了一次喂给LSTM的数据多少\n",
    "* time_steps：LSTM将前面time_steps个时间点的数据参与下一个时间点的预测，在本例中，time_steps=60，即前面两个月的数据参与下一日股价的预测。\n",
    "* features：输入参数个数\n",
    "\n",
    "本案例中，TIME_STEPS=60,BATCH_SIZE=2，因此可以想象为摞起来的若干个平面，每个平面是(60,5)，每两个平面组成一个batch喂入LSTM。\n",
    "\n",
    "在LSTM中，数据要给出两类：\n",
    "* 训练样本，用来逐步推断计算用的数据。根据TIME_STEPS的设置，训练样本通常比原始的数据要大一些，如下图所示，假设TIME_STEPS=3，使用不同的颜色框出了三个批次的数据。显然，这个图片中的数据可以有7-3=4个批次。注意到，目标样本只关注收盘价。\n",
    "![LSTM的数据含义](imgs/lstm-time-steps-meaning.png)\n",
    "* 目标样本，通过训练后的预测值要和目标样本比较。目标样本相当于“标签”"
   ]
  },
  {
   "cell_type": "code",
   "execution_count": 9,
   "metadata": {},
   "outputs": [],
   "source": [
    "TIME_STEPS=60\n",
    "BATCH_SIZE=2"
   ]
  },
  {
   "cell_type": "code",
   "execution_count": 10,
   "metadata": {},
   "outputs": [],
   "source": [
    "from tqdm import tqdm_notebook\n",
    "def build_timeseries(mat, y_col_index):\n",
    "    \"\"\"\n",
    "    返回值：\n",
    "    x：训练样本，符合LSTM要求的三维数据\n",
    "    y：目标样本，本例可以通过y_col_index来选择收盘价、开盘价等作为目标样本\n",
    "    \"\"\"\n",
    "    # y_col_index is the index of column that would act as output column\n",
    "    # total number of time-series samples would be len(mat) - TIME_STEPS\n",
    "    dim_0 = mat.shape[0] - TIME_STEPS\n",
    "    dim_1 = mat.shape[1]\n",
    "    x = np.zeros((dim_0, TIME_STEPS, dim_1))\n",
    "    y = np.zeros((dim_0,))\n",
    "    \n",
    "    for i in tqdm_notebook(range(dim_0)):\n",
    "        x[i] = mat[i:TIME_STEPS+i] # 第i个训练样本由TIME_STEPS行组成\n",
    "        y[i] = mat[TIME_STEPS+i, y_col_index]\n",
    "    print(\"length of time-series i/o\",x.shape,y.shape)\n",
    "    return x, y"
   ]
  },
  {
   "cell_type": "code",
   "execution_count": 11,
   "metadata": {},
   "outputs": [],
   "source": [
    "def trim_dataset(mat, batch_size):\n",
    "    \"\"\"\n",
    "    trims dataset to a size that's divisible by BATCH_SIZE\n",
    "    \"\"\"\n",
    "    no_of_rows_drop = mat.shape[0]%batch_size\n",
    "    if(no_of_rows_drop > 0):\n",
    "        return mat[:-no_of_rows_drop]\n",
    "    else:\n",
    "        return mat"
   ]
  },
  {
   "cell_type": "code",
   "execution_count": 12,
   "metadata": {
    "scrolled": true
   },
   "outputs": [
    {
     "data": {
      "application/vnd.jupyter.widget-view+json": {
       "model_id": "214eaf697b9f424eac59341e570602b5",
       "version_major": 2,
       "version_minor": 0
      },
      "text/plain": [
       "HBox(children=(IntProgress(value=0, max=11186), HTML(value='')))"
      ]
     },
     "metadata": {},
     "output_type": "display_data"
    },
    {
     "name": "stdout",
     "output_type": "stream",
     "text": [
      "\n",
      "length of time-series i/o (11186, 60, 5) (11186,)\n"
     ]
    },
    {
     "data": {
      "application/vnd.jupyter.widget-view+json": {
       "model_id": "72887c87ffd54d2e8ecefa80d42bae35",
       "version_major": 2,
       "version_minor": 0
      },
      "text/plain": [
       "HBox(children=(IntProgress(value=0, max=2752), HTML(value='')))"
      ]
     },
     "metadata": {},
     "output_type": "display_data"
    },
    {
     "name": "stdout",
     "output_type": "stream",
     "text": [
      "\n",
      "length of time-series i/o (2752, 60, 5) (2752,)\n"
     ]
    }
   ],
   "source": [
    "x_t, y_t = build_timeseries(x_train, 3) \n",
    "x_t = trim_dataset(x_t, BATCH_SIZE) # 训练样本\n",
    "y_t = trim_dataset(y_t, BATCH_SIZE) # 目标样本\n",
    "x_temp, y_temp = build_timeseries(x_test, 3)\n",
    "# 将剩余的数据均分为测试数据和验证数据\n",
    "x_val, x_test_t = np.split(trim_dataset(x_temp, BATCH_SIZE),2)\n",
    "y_val, y_test_t = np.split(trim_dataset(y_temp, BATCH_SIZE),2)"
   ]
  },
  {
   "cell_type": "markdown",
   "metadata": {},
   "source": [
    "创建模型"
   ]
  },
  {
   "cell_type": "code",
   "execution_count": 13,
   "metadata": {},
   "outputs": [],
   "source": [
    "learning_rate = 0.001\n",
    "EPOCHS = 50"
   ]
  },
  {
   "cell_type": "code",
   "execution_count": 16,
   "metadata": {
    "scrolled": true
   },
   "outputs": [
    {
     "name": "stdout",
     "output_type": "stream",
     "text": [
      "_________________________________________________________________\n",
      "Layer (type)                 Output Shape              Param #   \n",
      "=================================================================\n",
      "cu_dnnlstm (CuDNNLSTM)       (2, 32)                   4992      \n",
      "_________________________________________________________________\n",
      "dropout_1 (Dropout)          (2, 32)                   0         \n",
      "_________________________________________________________________\n",
      "dense_2 (Dense)              (2, 20)                   660       \n",
      "_________________________________________________________________\n",
      "dense_3 (Dense)              (2, 1)                    21        \n",
      "=================================================================\n",
      "Total params: 5,673\n",
      "Trainable params: 5,673\n",
      "Non-trainable params: 0\n",
      "_________________________________________________________________\n"
     ]
    }
   ],
   "source": [
    "model = tf.keras.Sequential()\n",
    "model.add(tf.keras.layers.CuDNNLSTM(32, # 100个LSTM单元\n",
    "        batch_input_shape=(BATCH_SIZE, TIME_STEPS, x_t.shape[2]), # 这个参数不需要了？       \n",
    "        stateful=True, kernel_initializer='random_uniform'))\n",
    "model.add(tf.keras.layers.Dropout(0.5))\n",
    "model.add(tf.keras.layers.Dense(20,activation='relu'))\n",
    "model.add(tf.keras.layers.Dense(1,activation='sigmoid'))\n",
    "optimizer = tf.train.RMSPropOptimizer(learning_rate=learning_rate)\n",
    "model.compile(loss='mean_squared_error', optimizer=optimizer)\n",
    "model.summary()"
   ]
  },
  {
   "cell_type": "code",
   "execution_count": 17,
   "metadata": {
    "scrolled": true
   },
   "outputs": [
    {
     "name": "stdout",
     "output_type": "stream",
     "text": [
      "Train on 11186 samples, validate on 1376 samples\n",
      "Epoch 1/50\n",
      " - 75s - loss: 0.0052 - val_loss: 0.0566\n",
      "Epoch 2/50\n",
      " - 71s - loss: 0.0018 - val_loss: 0.0463\n",
      "Epoch 3/50\n",
      " - 71s - loss: 0.0021 - val_loss: 0.0516\n",
      "Epoch 4/50\n",
      " - 71s - loss: 0.0014 - val_loss: 0.0588\n",
      "Epoch 5/50\n",
      " - 71s - loss: 0.0019 - val_loss: 0.0613\n",
      "Epoch 6/50\n",
      " - 71s - loss: 0.0012 - val_loss: 0.0609\n",
      "Epoch 7/50\n",
      " - 71s - loss: 0.0011 - val_loss: 0.0644\n",
      "Epoch 8/50\n",
      " - 71s - loss: 0.0011 - val_loss: 0.0648\n",
      "Epoch 9/50\n",
      " - 71s - loss: 0.0011 - val_loss: 0.0659\n",
      "Epoch 10/50\n",
      " - 71s - loss: 0.0010 - val_loss: 0.0661\n",
      "Epoch 11/50\n",
      " - 71s - loss: 9.3647e-04 - val_loss: 0.0666\n",
      "Epoch 12/50\n",
      " - 71s - loss: 0.0010 - val_loss: 0.0670\n",
      "Epoch 13/50\n",
      " - 71s - loss: 9.4024e-04 - val_loss: 0.0634\n",
      "Epoch 14/50\n",
      " - 71s - loss: 8.0060e-04 - val_loss: 0.0639\n",
      "Epoch 15/50\n",
      " - 71s - loss: 8.9313e-04 - val_loss: 0.0654\n",
      "Epoch 16/50\n",
      " - 71s - loss: 0.0011 - val_loss: 0.0654\n",
      "Epoch 17/50\n",
      " - 71s - loss: 0.0011 - val_loss: 0.0636\n",
      "Epoch 18/50\n",
      " - 71s - loss: 0.0012 - val_loss: 0.0691\n",
      "Epoch 19/50\n",
      " - 71s - loss: 0.0012 - val_loss: 0.0647\n",
      "Epoch 20/50\n",
      " - 71s - loss: 0.0010 - val_loss: 0.0662\n",
      "Epoch 21/50\n",
      " - 71s - loss: 0.0012 - val_loss: 0.0643\n",
      "Epoch 22/50\n",
      " - 71s - loss: 0.0011 - val_loss: 0.0644\n",
      "Epoch 23/50\n",
      " - 71s - loss: 0.0011 - val_loss: 0.0671\n",
      "Epoch 24/50\n",
      " - 71s - loss: 0.0012 - val_loss: 0.0670\n",
      "Epoch 25/50\n",
      " - 71s - loss: 0.0011 - val_loss: 0.0653\n",
      "Epoch 26/50\n",
      " - 71s - loss: 0.0012 - val_loss: 0.0648\n",
      "Epoch 27/50\n",
      " - 71s - loss: 0.0011 - val_loss: 0.0652\n",
      "Epoch 28/50\n",
      " - 71s - loss: 9.7397e-04 - val_loss: 0.0665\n",
      "Epoch 29/50\n",
      " - 71s - loss: 9.8741e-04 - val_loss: 0.0672\n",
      "Epoch 30/50\n",
      " - 72s - loss: 0.0011 - val_loss: 0.0683\n",
      "Epoch 31/50\n",
      " - 72s - loss: 0.0012 - val_loss: 0.0652\n",
      "Epoch 32/50\n",
      " - 71s - loss: 0.0011 - val_loss: 0.0668\n",
      "Epoch 33/50\n",
      " - 72s - loss: 0.0011 - val_loss: 0.0671\n",
      "Epoch 34/50\n",
      " - 74s - loss: 0.0012 - val_loss: 0.0664\n",
      "Epoch 35/50\n",
      " - 74s - loss: 0.0011 - val_loss: 0.0680\n",
      "Epoch 36/50\n",
      " - 73s - loss: 0.0011 - val_loss: 0.0655\n",
      "Epoch 37/50\n",
      " - 75s - loss: 9.6794e-04 - val_loss: 0.0672\n",
      "Epoch 38/50\n",
      " - 74s - loss: 0.0010 - val_loss: 0.0675\n",
      "Epoch 39/50\n",
      " - 74s - loss: 0.0010 - val_loss: 0.0663\n",
      "Epoch 40/50\n",
      " - 75s - loss: 0.0011 - val_loss: 0.0665\n",
      "Epoch 41/50\n",
      " - 71s - loss: 0.0010 - val_loss: 0.0678\n",
      "Epoch 42/50\n",
      " - 71s - loss: 0.0010 - val_loss: 0.0655\n",
      "Epoch 43/50\n",
      " - 71s - loss: 0.0011 - val_loss: 0.0667\n",
      "Epoch 44/50\n",
      " - 72s - loss: 9.2974e-04 - val_loss: 0.0664\n",
      "Epoch 45/50\n",
      " - 71s - loss: 0.0010 - val_loss: 0.0662\n",
      "Epoch 46/50\n",
      " - 71s - loss: 9.5924e-04 - val_loss: 0.0678\n",
      "Epoch 47/50\n",
      " - 71s - loss: 0.0011 - val_loss: 0.0671\n",
      "Epoch 48/50\n",
      " - 71s - loss: 9.8417e-04 - val_loss: 0.0667\n",
      "Epoch 49/50\n",
      " - 71s - loss: 0.0012 - val_loss: 0.0657\n",
      "Epoch 50/50\n",
      " - 71s - loss: 0.0011 - val_loss: 0.0676\n"
     ]
    }
   ],
   "source": [
    "history = model.fit(x_t, y_t, epochs=EPOCHS, verbose=2, batch_size=BATCH_SIZE,\n",
    "                    shuffle=False, validation_data=(trim_dataset(x_val, BATCH_SIZE),\n",
    "                    trim_dataset(y_val, BATCH_SIZE)))"
   ]
  },
  {
   "cell_type": "code",
   "execution_count": 18,
   "metadata": {},
   "outputs": [
    {
     "name": "stdout",
     "output_type": "stream",
     "text": [
      "Error is 0.01452657909125082 (1376,) (1376,)\n",
      "[0.5881993  0.5901861  0.5902949  0.58998626 0.5892     0.58770245\n",
      " 0.5864103  0.5884877  0.58446103 0.5787394  0.5766721  0.5796438\n",
      " 0.5821509  0.5847415  0.58448243]\n",
      "[0.32943225 0.33205846 0.32659593 0.32747834 0.31770881 0.31092267\n",
      " 0.31258244 0.32378063 0.32592362 0.32947426 0.32783551 0.33443256\n",
      " 0.33249967 0.3386135  0.34352978]\n"
     ]
    }
   ],
   "source": [
    "y_pred = model.predict(trim_dataset(x_test_t, BATCH_SIZE), batch_size=BATCH_SIZE)\n",
    "y_pred = y_pred.flatten()\n",
    "y_test_t = trim_dataset(y_test_t, BATCH_SIZE)\n",
    "error = mean_squared_error(y_test_t, y_pred)\n",
    "print(\"Error is\", error, y_pred.shape, y_test_t.shape)\n",
    "print(y_pred[0:15])\n",
    "print(y_test_t[0:15])"
   ]
  },
  {
   "cell_type": "code",
   "execution_count": 19,
   "metadata": {},
   "outputs": [
    {
     "name": "stdout",
     "output_type": "stream",
     "text": [
      "[28.455532 28.550098 28.555275 28.540586 28.503162 28.431883 28.37038\n",
      " 28.469257 28.277601 28.00527  27.90687  28.048315 28.167645 28.290949\n",
      " 28.27862 ]\n",
      "[16.139 16.264 16.004 16.046 15.581 15.258 15.337 15.87  15.972 16.141\n",
      " 16.063 16.377 16.285 16.576 16.81 ]\n"
     ]
    }
   ],
   "source": [
    "# convert the predicted value to range of real data\n",
    "y_pred_org = (y_pred * min_max_scaler.data_range_[3]) + min_max_scaler.data_min_[3]\n",
    "# min_max_scaler.inverse_transform(y_pred)\n",
    "y_test_t_org = (y_test_t * min_max_scaler.data_range_[3]) + min_max_scaler.data_min_[3]\n",
    "# min_max_scaler.inverse_transform(y_test_t)\n",
    "print(y_pred_org[0:15])\n",
    "print(y_test_t_org[0:15])"
   ]
  },
  {
   "cell_type": "code",
   "execution_count": 20,
   "metadata": {},
   "outputs": [
    {
     "data": {
      "image/png": "[encoded data removed]",
      "text/plain": [
       "<Figure size 432x288 with 1 Axes>"
      ]
     },
     "metadata": {
      "needs_background": "light"
     },
     "output_type": "display_data"
    }
   ],
   "source": [
    "plt.figure()\n",
    "plt.plot(history.history['loss'])\n",
    "plt.plot(history.history['val_loss'])\n",
    "plt.title('Model loss')\n",
    "plt.ylabel('Loss')\n",
    "plt.xlabel('Epoch')\n",
    "plt.legend(['Train', 'Test'], loc='upper left')\n",
    "plt.show()\n",
    "#plt.savefig(os.path.join(OUTPUT_PATH, 'train_vis_BS_'+str(BATCH_SIZE)+\"_\"+time.ctime()+'.png'))"
   ]
  },
  {
   "cell_type": "code",
   "execution_count": 21,
   "metadata": {},
   "outputs": [
    {
     "data": {
      "image/png": "[encoded data removed]",
      "text/plain": [
       "<Figure size 432x288 with 1 Axes>"
      ]
     },
     "metadata": {
      "needs_background": "light"
     },
     "output_type": "display_data"
    }
   ],
   "source": [
    "plt.figure()\n",
    "plt.plot(y_pred_org)\n",
    "plt.plot(y_test_t_org)\n",
    "plt.title('Prediction vs Real Stock Price')\n",
    "plt.ylabel('Price')\n",
    "plt.xlabel('Days')\n",
    "plt.legend(['Prediction', 'Real'], loc='upper left')\n",
    "plt.show()\n",
    "\n",
    "#plt.savefig(os.path.join(OUTPUT_PATH, 'pred_vs_real_BS'+str(BATCH_SIZE)+\"_\"+time.ctime()+'.png'))\n",
    "#print_time(\"program completed \", stime)"
   ]
  }
 ],
 "metadata": {
  "kernelspec": {
   "display_name": "Python 3",
   "language": "python",
   "name": "python3"
  },
  "language_info": {
   "codemirror_mode": {
    "name": "ipython",
    "version": 3
   },
   "file_extension": ".py",
   "mimetype": "text/x-python",
   "name": "python",
   "nbconvert_exporter": "python",
   "pygments_lexer": "ipython3",
   "version": "3.7.3"
  }
 },
 "nbformat": 4,
 "nbformat_minor": 2
}
