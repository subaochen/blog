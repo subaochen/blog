{
 "cells": [
  {
   "cell_type": "code",
   "execution_count": 1,
   "metadata": {},
   "outputs": [],
   "source": [
    "import tensorflow as tf\n",
    "import numpy as np"
   ]
  },
  {
   "cell_type": "markdown",
   "metadata": {},
   "source": [
    "导入数据"
   ]
  },
  {
   "cell_type": "code",
   "execution_count": 3,
   "metadata": {},
   "outputs": [
    {
     "name": "stdout",
     "output_type": "stream",
     "text": [
      "WARNING:tensorflow:From <ipython-input-3-dbc7d7efeb7a>:2: read_data_sets (from tensorflow.contrib.learn.python.learn.datasets.mnist) is deprecated and will be removed in a future version.\n",
      "Instructions for updating:\n",
      "Please use alternatives such as official/mnist/dataset.py from tensorflow/models.\n",
      "WARNING:tensorflow:From /home/subaochen/anaconda3/envs/tf1-gpu/lib/python3.7/site-packages/tensorflow/contrib/learn/python/learn/datasets/mnist.py:260: maybe_download (from tensorflow.contrib.learn.python.learn.datasets.base) is deprecated and will be removed in a future version.\n",
      "Instructions for updating:\n",
      "Please write your own downloading logic.\n",
      "WARNING:tensorflow:From /home/subaochen/anaconda3/envs/tf1-gpu/lib/python3.7/site-packages/tensorflow/contrib/learn/python/learn/datasets/base.py:252: _internal_retry.<locals>.wrap.<locals>.wrapped_fn (from tensorflow.contrib.learn.python.learn.datasets.base) is deprecated and will be removed in a future version.\n",
      "Instructions for updating:\n",
      "Please use urllib or similar directly.\n",
      "Successfully downloaded train-images-idx3-ubyte.gz 9912422 bytes.\n",
      "WARNING:tensorflow:From /home/subaochen/anaconda3/envs/tf1-gpu/lib/python3.7/site-packages/tensorflow/contrib/learn/python/learn/datasets/mnist.py:262: extract_images (from tensorflow.contrib.learn.python.learn.datasets.mnist) is deprecated and will be removed in a future version.\n",
      "Instructions for updating:\n",
      "Please use tf.data to implement this functionality.\n",
      "Extracting MNIST_data/train-images-idx3-ubyte.gz\n",
      "Successfully downloaded train-labels-idx1-ubyte.gz 28881 bytes.\n",
      "WARNING:tensorflow:From /home/subaochen/anaconda3/envs/tf1-gpu/lib/python3.7/site-packages/tensorflow/contrib/learn/python/learn/datasets/mnist.py:267: extract_labels (from tensorflow.contrib.learn.python.learn.datasets.mnist) is deprecated and will be removed in a future version.\n",
      "Instructions for updating:\n",
      "Please use tf.data to implement this functionality.\n",
      "Extracting MNIST_data/train-labels-idx1-ubyte.gz\n",
      "WARNING:tensorflow:From /home/subaochen/anaconda3/envs/tf1-gpu/lib/python3.7/site-packages/tensorflow/contrib/learn/python/learn/datasets/mnist.py:110: dense_to_one_hot (from tensorflow.contrib.learn.python.learn.datasets.mnist) is deprecated and will be removed in a future version.\n",
      "Instructions for updating:\n",
      "Please use tf.one_hot on tensors.\n",
      "Successfully downloaded t10k-images-idx3-ubyte.gz 1648877 bytes.\n",
      "Extracting MNIST_data/t10k-images-idx3-ubyte.gz\n",
      "Successfully downloaded t10k-labels-idx1-ubyte.gz 4542 bytes.\n",
      "Extracting MNIST_data/t10k-labels-idx1-ubyte.gz\n",
      "WARNING:tensorflow:From /home/subaochen/anaconda3/envs/tf1-gpu/lib/python3.7/site-packages/tensorflow/contrib/learn/python/learn/datasets/mnist.py:290: DataSet.__init__ (from tensorflow.contrib.learn.python.learn.datasets.mnist) is deprecated and will be removed in a future version.\n",
      "Instructions for updating:\n",
      "Please use alternatives such as official/mnist/dataset.py from tensorflow/models.\n"
     ]
    }
   ],
   "source": [
    "from tensorflow.examples.tutorials.mnist import input_data\n",
    "mnist = input_data.read_data_sets(\"MNIST_data/\",one_hot=True)"
   ]
  },
  {
   "cell_type": "markdown",
   "metadata": {},
   "source": [
    "创建占位符"
   ]
  },
  {
   "cell_type": "code",
   "execution_count": 4,
   "metadata": {},
   "outputs": [],
   "source": [
    "x = tf.placeholder(tf.float32,[None,784],name=\"X\")\n",
    "y = tf.placeholder(tf.float32,[None,10],name=\"Y\")"
   ]
  },
  {
   "cell_type": "markdown",
   "metadata": {},
   "source": [
    "创建变量\n",
    "w: [784,10]\n",
    "b: [10]"
   ]
  },
  {
   "cell_type": "code",
   "execution_count": 5,
   "metadata": {
    "scrolled": true
   },
   "outputs": [
    {
     "name": "stdout",
     "output_type": "stream",
     "text": [
      "WARNING:tensorflow:From /home/subaochen/anaconda3/envs/tf1-gpu/lib/python3.7/site-packages/tensorflow/python/framework/op_def_library.py:263: colocate_with (from tensorflow.python.framework.ops) is deprecated and will be removed in a future version.\n",
      "Instructions for updating:\n",
      "Colocations handled automatically by placer.\n"
     ]
    }
   ],
   "source": [
    "W = tf.Variable(tf.random.normal([784,10]),name=\"W\")\n",
    "b = tf.Variable(tf.zeros([10]),name=\"b\")"
   ]
  },
  {
   "cell_type": "markdown",
   "metadata": {},
   "source": [
    "前向计算[10]"
   ]
  },
  {
   "cell_type": "code",
   "execution_count": 6,
   "metadata": {},
   "outputs": [],
   "source": [
    "forward = tf.matmul(x,W) + b"
   ]
  },
  {
   "cell_type": "markdown",
   "metadata": {},
   "source": [
    "softmax分类[10]"
   ]
  },
  {
   "cell_type": "code",
   "execution_count": 7,
   "metadata": {},
   "outputs": [],
   "source": [
    "pred = tf.nn.softmax(forward)"
   ]
  },
  {
   "cell_type": "markdown",
   "metadata": {},
   "source": [
    "定义损失函数：交叉熵"
   ]
  },
  {
   "cell_type": "code",
   "execution_count": 8,
   "metadata": {},
   "outputs": [],
   "source": [
    "loss_function = tf.reduce_mean(-tf.reduce_sum(y*tf.log(pred),reduction_indices=1))"
   ]
  },
  {
   "cell_type": "markdown",
   "metadata": {},
   "source": [
    "定义训练超参数"
   ]
  },
  {
   "cell_type": "code",
   "execution_count": 16,
   "metadata": {},
   "outputs": [],
   "source": [
    "train_epochs = 50\n",
    "batch_size = 100\n",
    "total_batch = int(mnist.train.num_examples/batch_size)\n",
    "display_step = 1\n",
    "learning_rate = 0.01"
   ]
  },
  {
   "cell_type": "markdown",
   "metadata": {},
   "source": [
    "选择优化器"
   ]
  },
  {
   "cell_type": "code",
   "execution_count": 10,
   "metadata": {},
   "outputs": [
    {
     "name": "stdout",
     "output_type": "stream",
     "text": [
      "WARNING:tensorflow:From /home/subaochen/anaconda3/envs/tf1-gpu/lib/python3.7/site-packages/tensorflow/python/ops/math_ops.py:3066: to_int32 (from tensorflow.python.ops.math_ops) is deprecated and will be removed in a future version.\n",
      "Instructions for updating:\n",
      "Use tf.cast instead.\n"
     ]
    }
   ],
   "source": [
    "optimizer = tf.train.GradientDescentOptimizer(learning_rate).minimize(loss_function)"
   ]
  },
  {
   "cell_type": "markdown",
   "metadata": {},
   "source": [
    "定义准确率"
   ]
  },
  {
   "cell_type": "code",
   "execution_count": 11,
   "metadata": {},
   "outputs": [],
   "source": [
    "correct_prediction = tf.equal(tf.argmax(y,1), tf.argmax(pred,1))\n",
    "accuray = tf.reduce_mean(tf.cast(correct_prediction,tf.float32))"
   ]
  },
  {
   "cell_type": "markdown",
   "metadata": {},
   "source": [
    "全局初始化"
   ]
  },
  {
   "cell_type": "code",
   "execution_count": 12,
   "metadata": {},
   "outputs": [],
   "source": [
    "sess = tf.Session()\n",
    "init = tf.global_variables_initializer()\n",
    "sess.run(init)"
   ]
  },
  {
   "cell_type": "markdown",
   "metadata": {},
   "source": [
    "训练"
   ]
  },
  {
   "cell_type": "code",
   "execution_count": 19,
   "metadata": {},
   "outputs": [
    {
     "name": "stdout",
     "output_type": "stream",
     "text": [
      "train epoch: 1 Loss: 2.3780777 Accuracy: 0.5686\n",
      "train epoch: 2 Loss: 1.9560277 Accuracy: 0.6306\n",
      "train epoch: 3 Loss: 1.7020551 Accuracy: 0.6678\n",
      "train epoch: 4 Loss: 1.5302258 Accuracy: 0.6964\n",
      "train epoch: 5 Loss: 1.4059081 Accuracy: 0.7168\n",
      "train epoch: 6 Loss: 1.3113546 Accuracy: 0.7324\n",
      "train epoch: 7 Loss: 1.235153 Accuracy: 0.7482\n",
      "train epoch: 8 Loss: 1.1730008 Accuracy: 0.7582\n",
      "train epoch: 9 Loss: 1.1219825 Accuracy: 0.7676\n",
      "train epoch: 10 Loss: 1.0758369 Accuracy: 0.7764\n",
      "train epoch: 11 Loss: 1.0366791 Accuracy: 0.7838\n",
      "train epoch: 12 Loss: 1.0027667 Accuracy: 0.7918\n",
      "train epoch: 13 Loss: 0.972425 Accuracy: 0.7966\n",
      "train epoch: 14 Loss: 0.9447208 Accuracy: 0.8016\n",
      "train epoch: 15 Loss: 0.92019475 Accuracy: 0.8064\n",
      "train epoch: 16 Loss: 0.898017 Accuracy: 0.8094\n",
      "train epoch: 17 Loss: 0.87773556 Accuracy: 0.815\n",
      "train epoch: 18 Loss: 0.85879666 Accuracy: 0.8184\n",
      "train epoch: 19 Loss: 0.8415383 Accuracy: 0.8226\n",
      "train epoch: 20 Loss: 0.8256154 Accuracy: 0.8244\n",
      "train epoch: 21 Loss: 0.810771 Accuracy: 0.8268\n",
      "train epoch: 22 Loss: 0.7968853 Accuracy: 0.8294\n",
      "train epoch: 23 Loss: 0.78430027 Accuracy: 0.8306\n",
      "train epoch: 24 Loss: 0.77196836 Accuracy: 0.8348\n",
      "train epoch: 25 Loss: 0.760817 Accuracy: 0.838\n",
      "train epoch: 26 Loss: 0.74989873 Accuracy: 0.8382\n",
      "train epoch: 27 Loss: 0.7396129 Accuracy: 0.841\n",
      "train epoch: 28 Loss: 0.7304821 Accuracy: 0.8422\n",
      "train epoch: 29 Loss: 0.72125584 Accuracy: 0.844\n",
      "train epoch: 30 Loss: 0.71282303 Accuracy: 0.8456\n",
      "train epoch: 31 Loss: 0.7043603 Accuracy: 0.8466\n",
      "train epoch: 32 Loss: 0.6968676 Accuracy: 0.8492\n",
      "train epoch: 33 Loss: 0.6892469 Accuracy: 0.849\n",
      "train epoch: 34 Loss: 0.6821186 Accuracy: 0.8504\n",
      "train epoch: 35 Loss: 0.6754614 Accuracy: 0.8522\n",
      "train epoch: 36 Loss: nan Accuracy: 0.0958\n",
      "train epoch: 37 Loss: nan Accuracy: 0.0958\n",
      "train epoch: 38 Loss: nan Accuracy: 0.0958\n",
      "train epoch: 39 Loss: nan Accuracy: 0.0958\n",
      "train epoch: 40 Loss: nan Accuracy: 0.0958\n",
      "train epoch: 41 Loss: nan Accuracy: 0.0958\n",
      "train epoch: 42 Loss: nan Accuracy: 0.0958\n",
      "train epoch: 43 Loss: nan Accuracy: 0.0958\n",
      "train epoch: 44 Loss: nan Accuracy: 0.0958\n",
      "train epoch: 45 Loss: nan Accuracy: 0.0958\n",
      "train epoch: 46 Loss: nan Accuracy: 0.0958\n",
      "train epoch: 47 Loss: nan Accuracy: 0.0958\n",
      "train epoch: 48 Loss: nan Accuracy: 0.0958\n",
      "train epoch: 49 Loss: nan Accuracy: 0.0958\n",
      "train epoch: 50 Loss: nan Accuracy: 0.0958\n",
      "Train finished!\n"
     ]
    }
   ],
   "source": [
    "for epoch in range(train_epochs):\n",
    "    for batch in range(total_batch):\n",
    "        xs, ys = mnist.train.next_batch(batch_size)\n",
    "        sess.run(optimizer, feed_dict={x:xs, y:ys})\n",
    "    \n",
    "    # 使用验证集检验每个批次的训练成果\n",
    "    # 验证集没有分批次\n",
    "    loss,acc = sess.run([loss_function,accuray],feed_dict={\n",
    "        x:mnist.validation.images,y:mnist.validation.labels\n",
    "    })\n",
    "    # 打印训练结果\n",
    "    if (epoch+1) % display_step == 0:\n",
    "        print(\"train epoch:\",(epoch + 1),\"Loss:\",loss,\"Accuracy:\",acc)\n",
    "\n",
    "print(\"Train finished!\")"
   ]
  },
  {
   "cell_type": "markdown",
   "metadata": {},
   "source": [
    "使用验证数据集验证训练结果"
   ]
  },
  {
   "cell_type": "markdown",
   "metadata": {},
   "source": [
    "使用测试数据集验证训练结果"
   ]
  }
 ],
 "metadata": {
  "kernelspec": {
   "display_name": "Python 3",
   "language": "python",
   "name": "python3"
  },
  "language_info": {
   "codemirror_mode": {
    "name": "ipython",
    "version": 3
   },
   "file_extension": ".py",
   "mimetype": "text/x-python",
   "name": "python",
   "nbconvert_exporter": "python",
   "pygments_lexer": "ipython3",
   "version": "3.7.3"
  }
 },
 "nbformat": 4,
 "nbformat_minor": 2
}
