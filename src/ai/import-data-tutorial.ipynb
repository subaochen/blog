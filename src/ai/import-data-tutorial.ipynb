{
 "cells": [
  {
   "cell_type": "markdown",
   "metadata": {},
   "source": [
    "下面的程序示例大部分来自 https://tensorflow.google.cn/guide/datasets"
   ]
  },
  {
   "cell_type": "code",
   "execution_count": 1,
   "metadata": {},
   "outputs": [],
   "source": [
    "import tensorflow as tf\n",
    "import numpy as np\n",
    "import matplotlib.pyplot as plt\n",
    "tf.enable_eager_execution()"
   ]
  },
  {
   "cell_type": "markdown",
   "metadata": {},
   "source": [
    "# 创建Dataset对象"
   ]
  },
  {
   "cell_type": "markdown",
   "metadata": {},
   "source": [
    "## 从csv文件创建Dataset"
   ]
  },
  {
   "cell_type": "markdown",
   "metadata": {},
   "source": [
    "## 从数组（Tensor）创建Dataset"
   ]
  },
  {
   "cell_type": "code",
   "execution_count": 2,
   "metadata": {},
   "outputs": [
    {
     "name": "stdout",
     "output_type": "stream",
     "text": [
      "tf.Tensor([0 1 2 3 4 5 6 7 8], shape=(9,), dtype=int32)\n",
      "() <dtype: 'int32'>\n"
     ]
    }
   ],
   "source": [
    "data = tf.range(9) # or np.range(9)\n",
    "print(data)\n",
    "ds = tf.data.Dataset.from_tensor_slices(data)\n",
    "print(ds.output_shapes,ds.output_types)"
   ]
  },
  {
   "cell_type": "markdown",
   "metadata": {},
   "source": [
    "## 按照第一维切分多维数组（Tensor）\n",
    "下面的例子将一个2*3的二维数组切分为2个shape为(3,)的向量，也就是说，from_tensor_slices总是将给定的张量降低一个维度：去掉了第一维，output_shapes表达了dataset中每一个元素的维度。\n",
    "\n",
    "Q: 如何遍历Dataset？"
   ]
  },
  {
   "cell_type": "code",
   "execution_count": 28,
   "metadata": {},
   "outputs": [
    {
     "name": "stdout",
     "output_type": "stream",
     "text": [
      "tf.Tensor(\n",
      "[[0.6369455  0.75700355 0.9008994  0.05953217 0.23252475 0.9033592\n",
      "  0.17105424 0.48633683 0.32002068 0.7356299 ]\n",
      " [0.61686313 0.8060852  0.1563648  0.32801402 0.7224113  0.8921137\n",
      "  0.45901847 0.7417455  0.64629114 0.24317098]\n",
      " [0.01582301 0.90439    0.01361418 0.44813073 0.49562013 0.5387732\n",
      "  0.8756645  0.7021924  0.45619965 0.61684966]\n",
      " [0.5007888  0.07209098 0.8013929  0.73403394 0.8535296  0.18640411\n",
      "  0.7101948  0.41234338 0.47507048 0.7388607 ]], shape=(4, 10), dtype=float32)\n",
      "\n",
      "[<tf.Tensor: id=495, shape=(10,), dtype=float32, numpy=\n",
      "array([0.6369455 , 0.75700355, 0.9008994 , 0.05953217, 0.23252475,\n",
      "       0.9033592 , 0.17105424, 0.48633683, 0.32002068, 0.7356299 ],\n",
      "      dtype=float32)>, <tf.Tensor: id=496, shape=(10,), dtype=float32, numpy=\n",
      "array([0.61686313, 0.8060852 , 0.1563648 , 0.32801402, 0.7224113 ,\n",
      "       0.8921137 , 0.45901847, 0.7417455 , 0.64629114, 0.24317098],\n",
      "      dtype=float32)>]\n",
      "\n",
      "(10,) <dtype: 'float32'>\n",
      "(3, 4) <dtype: 'float32'>\n"
     ]
    }
   ],
   "source": [
    "data = tf.random.uniform([4,10])\n",
    "print(data),print()\n",
    "dataset1 = tf.data.Dataset.from_tensor_slices(data)\n",
    "# 从dataset1取出2行来看看\n",
    "print(list(dataset1.take(2))),print()\n",
    "print(dataset1.output_shapes,dataset1.output_types)\n",
    "data = tf.random.uniform([2,3,4])\n",
    "ds = tf.data.Dataset.from_tensor_slices(data)\n",
    "print(ds.output_shapes,ds.output_types)"
   ]
  },
  {
   "cell_type": "markdown",
   "metadata": {},
   "source": [
    "要求两个Tensor的第一维的维度相同，but why？"
   ]
  },
  {
   "cell_type": "code",
   "execution_count": 7,
   "metadata": {},
   "outputs": [
    {
     "name": "stdout",
     "output_type": "stream",
     "text": [
      "(tf.float32, tf.int32)\n",
      "(TensorShape([]), TensorShape([Dimension(100)]))\n"
     ]
    }
   ],
   "source": [
    "dataset2 = tf.data.Dataset.from_tensor_slices(\n",
    "   (tf.random_uniform([4]),\n",
    "    tf.random_uniform([4, 100], maxval=100, dtype=tf.int32)))\n",
    "print(dataset2.output_types)  # ==> \"(tf.float32, tf.int32)\"\n",
    "print(dataset2.output_shapes)  # ==> \"((), (100,))\""
   ]
  },
  {
   "cell_type": "code",
   "execution_count": 8,
   "metadata": {},
   "outputs": [
    {
     "name": "stdout",
     "output_type": "stream",
     "text": [
      "(tf.float32, (tf.float32, tf.int32))\n",
      "(TensorShape([Dimension(10)]), (TensorShape([]), TensorShape([Dimension(100)])))\n"
     ]
    }
   ],
   "source": [
    "dataset3 = tf.data.Dataset.zip((dataset1, dataset2))\n",
    "print(dataset3.output_types)  # ==> (tf.float32, (tf.float32, tf.int32))\n",
    "print(dataset3.output_shapes)  # ==> \"(10, ((), (100,)))\""
   ]
  },
  {
   "cell_type": "code",
   "execution_count": 13,
   "metadata": {},
   "outputs": [
    {
     "name": "stdout",
     "output_type": "stream",
     "text": [
      "<DatasetV1Adapter shapes: ((10,), ((), (100,))), types: (tf.float32, (tf.float32, tf.int32))>\n"
     ]
    }
   ],
   "source": [
    "print(dataset3.take(1))"
   ]
  },
  {
   "cell_type": "markdown",
   "metadata": {},
   "source": [
    "# 迭代器\n",
    "## 单次迭代"
   ]
  },
  {
   "cell_type": "code",
   "execution_count": 33,
   "metadata": {},
   "outputs": [],
   "source": [
    "dataset = tf.data.Dataset.range(100)\n",
    "iterator = dataset.make_one_shot_iterator()\n",
    "for i in range(100):\n",
    "    assert i == iterator.get_next().numpy()"
   ]
  }
 ],
 "metadata": {
  "kernelspec": {
   "display_name": "Python 3",
   "language": "python",
   "name": "python3"
  },
  "language_info": {
   "codemirror_mode": {
    "name": "ipython",
    "version": 3
   },
   "file_extension": ".py",
   "mimetype": "text/x-python",
   "name": "python",
   "nbconvert_exporter": "python",
   "pygments_lexer": "ipython3",
   "version": "3.7.3"
  }
 },
 "nbformat": 4,
 "nbformat_minor": 2
}
